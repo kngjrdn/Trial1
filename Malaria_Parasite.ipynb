{
  "nbformat": 4,
  "nbformat_minor": 0,
  "metadata": {
    "colab": {
      "name": "Malaria_Parasite.ipynb",
      "version": "0.3.2",
      "provenance": [],
      "collapsed_sections": [],
      "include_colab_link": true
    },
    "kernelspec": {
      "name": "python3",
      "display_name": "Python 3"
    },
    "accelerator": "GPU"
  },
  "cells": [
    {
      "cell_type": "markdown",
      "metadata": {
        "id": "view-in-github",
        "colab_type": "text"
      },
      "source": [
        "<a href=\"https://colab.research.google.com/github/kngjrdn/Trial1/blob/master/Malaria_Parasite.ipynb\" target=\"_parent\"><img src=\"https://colab.research.google.com/assets/colab-badge.svg\" alt=\"Open In Colab\"/></a>"
      ]
    },
    {
      "cell_type": "code",
      "metadata": {
        "id": "D37_NaNZs1Pp",
        "colab_type": "code",
        "colab": {}
      },
      "source": [
        "import pandas as pd\n",
        "import numpy as np\n",
        "import matplotlib.pyplot as plt\n",
        "import seaborn as sns\n",
        "sns.set()\n",
        "from tensorflow import keras\n",
        "import warnings\n",
        "warnings.filterwarnings(\"ignore\")"
      ],
      "execution_count": 0,
      "outputs": []
    },
    {
      "cell_type": "code",
      "metadata": {
        "id": "xjI7Cknts2X8",
        "colab_type": "code",
        "outputId": "337e33c5-c6b7-44d9-ca61-92bc4045a759",
        "colab": {
          "base_uri": "https://localhost:8080/",
          "height": 34
        }
      },
      "source": [
        "from google.colab import drive\n",
        "drive.mount('/content/drive')"
      ],
      "execution_count": 2,
      "outputs": [
        {
          "output_type": "stream",
          "text": [
            "Drive already mounted at /content/drive; to attempt to forcibly remount, call drive.mount(\"/content/drive\", force_remount=True).\n"
          ],
          "name": "stdout"
        }
      ]
    },
    {
      "cell_type": "code",
      "metadata": {
        "id": "Ypf4P-8rs6EW",
        "colab_type": "code",
        "outputId": "26ec5f63-5b7c-4d83-9529-ce23fd5b1cd8",
        "colab": {
          "base_uri": "https://localhost:8080/",
          "height": 136
        }
      },
      "source": [
        "ls \"/content/drive/My Drive/Colab Notebooks/comp_data\""
      ],
      "execution_count": 3,
      "outputs": [
        {
          "output_type": "stream",
          "text": [
            "microscopyCount_feat.name       microscopy_label.name\n",
            "microscopyCount_label.name      microscopy_test.data\n",
            "microscopyCount_test.data       microscopy_train.data\n",
            "microscopyCount_train.data      microscopy_train.solution\n",
            "microscopyCount_train.solution  microscopy_valid.data\n",
            "microscopyCount_valid.data      Untitled.ipynb\n",
            "microscopy_feat.name\n"
          ],
          "name": "stdout"
        }
      ]
    },
    {
      "cell_type": "code",
      "metadata": {
        "id": "9Qa30K5DtKq9",
        "colab_type": "code",
        "colab": {
          "base_uri": "https://localhost:8080/",
          "height": 34
        },
        "outputId": "41dbfab2-c3c2-440f-be23-b8193db916f1"
      },
      "source": [
        "train = pd.read_table(\"/content/drive/My Drive/Colab Notebooks/comp_data/microscopy_train.data\", sep = \"\\t\")\n",
        "valid = pd.read_table(\"/content/drive/My Drive/Colab Notebooks/comp_data/microscopy_valid.data\", sep = \"\\t\")\n",
        "test = pd.read_table(\"/content/drive/My Drive/Colab Notebooks/comp_data/microscopy_test.data\", sep = \"\\t\")\n",
        "labels = pd.read_table(\"/content/drive/My Drive/Colab Notebooks/comp_data/microscopy_train.solution\", sep = \"\\t\")\n",
        "train.shape, valid.shape, test.shape, labels.shape "
      ],
      "execution_count": 4,
      "outputs": [
        {
          "output_type": "execute_result",
          "data": {
            "text/plain": [
              "((23808, 1), (11892, 1), (12100, 1), (23808, 1))"
            ]
          },
          "metadata": {
            "tags": []
          },
          "execution_count": 4
        }
      ]
    },
    {
      "cell_type": "code",
      "metadata": {
        "id": "Ln82I7DdymyE",
        "colab_type": "code",
        "colab": {}
      },
      "source": [
        "train1 = train.iloc[:, 0].astype(str)\n",
        "valid1 = valid.iloc[:, 0].astype(str)\n",
        "test1 = test.iloc[:, 0].astype(str)\n",
        "\n",
        "train1 = train1.str.split(' ', expand=True)\n",
        "valid1 = valid1.str.split(' ', expand=True)\n",
        "test1 = train1.str.split(' ', expand=True)\n",
        "\n",
        "train1.shape, valid1.shape, test1.shape"
      ],
      "execution_count": 0,
      "outputs": []
    },
    {
      "cell_type": "code",
      "metadata": {
        "id": "-7y_3TCdzC7X",
        "colab_type": "code",
        "colab": {}
      },
      "source": [
        "data.head(2)"
      ],
      "execution_count": 0,
      "outputs": []
    },
    {
      "cell_type": "code",
      "metadata": {
        "id": "t62v0_5szd5D",
        "colab_type": "code",
        "colab": {}
      },
      "source": [
        "data.describe()"
      ],
      "execution_count": 0,
      "outputs": []
    },
    {
      "cell_type": "code",
      "metadata": {
        "id": "xSAYlNK5TIdt",
        "colab_type": "code",
        "colab": {}
      },
      "source": [
        "#data1 = []\n",
        "#for i in data.columns.values:\n",
        "#  pd.to_numeric(i)\n",
        "#  data1.append(i)\n",
        "#pd.DataFrame(data1)\n",
        "\n",
        "train1 = train1.values.astype(int)\n",
        "valid1 = valid1.values.astype(int)\n",
        "test1 = test1.values.astype(int)\n",
        "\n",
        "train = pd.DataFrame(train1)\n",
        "valid = pd.DataFrame(valid1)\n",
        "test = pd.DataFrame(test1)\n",
        "\n",
        "train.describe"
      ],
      "execution_count": 0,
      "outputs": []
    },
    {
      "cell_type": "code",
      "metadata": {
        "id": "1q5ZSPfcVL-O",
        "colab_type": "code",
        "colab": {}
      },
      "source": [
        "train1"
      ],
      "execution_count": 0,
      "outputs": []
    },
    {
      "cell_type": "code",
      "metadata": {
        "id": "KB4R2C2SZX4X",
        "colab_type": "code",
        "colab": {}
      },
      "source": [
        "X = train1\n",
        "y = labels"
      ],
      "execution_count": 0,
      "outputs": []
    },
    {
      "cell_type": "code",
      "metadata": {
        "id": "YSUvLVd5hdFu",
        "colab_type": "code",
        "colab": {}
      },
      "source": [
        "# Splitting the dataset into the Training set and Test set\n",
        "from sklearn.model_selection import train_test_split\n",
        "X_train, X_test, y_train, y_test = train_test_split(X, y, test_size = 0.2, random_state = 0, stratify = y)\n",
        "\n",
        "# Feature Scaling\n",
        "from sklearn.preprocessing import StandardScaler\n",
        "sc = StandardScaler()\n",
        "X_train = sc.fit_transform(X_train)\n",
        "X_test = sc.transform(X_test)"
      ],
      "execution_count": 0,
      "outputs": []
    },
    {
      "cell_type": "code",
      "metadata": {
        "id": "xch5_uaxgj2h",
        "colab_type": "code",
        "colab": {}
      },
      "source": [
        "# Importing the Keras libraries and packages\n",
        "import keras\n",
        "from keras.models import Sequential\n",
        "from keras.layers import Dense\n",
        "\n",
        "# Initialising the ANN\n",
        "classifier = Sequential()\n",
        "\n",
        "# Adding the input layer and the first hidden layer\n",
        "classifier.add(Dense(output_dim = 6, init = 'uniform', activation = 'relu', input_dim = 11))\n",
        "\n",
        "# Adding the second hidden layer\n",
        "classifier.add(Dense(output_dim = 6, init = 'uniform', activation = 'relu'))\n",
        "\n",
        "# Adding the output layer\n",
        "classifier.add(Dense(output_dim = 1, init = 'uniform', activation = 'sigmoid'))\n",
        "\n",
        "# Compiling the ANN\n",
        "classifier.compile(optimizer = 'adam', loss = 'binary_crossentropy', metrics = ['accuracy'])\n",
        "\n",
        "# Fitting the ANN to the Training set\n",
        "classifier.fit(X, y, batch_size = 10, nb_epoch = 100)"
      ],
      "execution_count": 0,
      "outputs": []
    },
    {
      "cell_type": "code",
      "metadata": {
        "id": "_UPd8NVEhBhU",
        "colab_type": "code",
        "colab": {}
      },
      "source": [
        "# Part 3 - Making the predictions and evaluating the model\n",
        "\n",
        "# Predicting the Test set results\n",
        "y_pred = classifier.predict(X_test)\n",
        "y_pred = (y_pred > 0.5)\n",
        "\n",
        "# Making the Confusion Matrix\n",
        "from sklearn.metrics import confusion_matrix\n",
        "cm = confusion_matrix(y_test, y_pred)"
      ],
      "execution_count": 0,
      "outputs": []
    }
  ]
}